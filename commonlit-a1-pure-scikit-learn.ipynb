{
 "cells": [
  {
   "cell_type": "markdown",
   "id": "alternative-beast",
   "metadata": {
    "papermill": {
     "duration": 0.010452,
     "end_time": "2021-05-18T11:40:40.612845",
     "exception": false,
     "start_time": "2021-05-18T11:40:40.602393",
     "status": "completed"
    },
    "tags": []
   },
   "source": [
    "# Objectives\n",
    "1. Develop a strong baseline using nothing more than **Scikit-learn**\n",
    "2. Inspect into the top features of the regression model\n",
    "3. Search for the best pipelines and the corresponding hyper-parameters using GridSearch\n",
    "4. Discuss the interesting observations\n",
    "\n",
    "# Pipelines to be evaluated\n",
    "1. TFIDF vectorizer -> Linear Regression\n",
    "2. TFIDF vectorizer -> Ridge Regression\n",
    "3. TFIDF vectorizer -> TruncatedSVD -> Linear Regression\n",
    "4. TFIDF vectorizer -> TruncatedSVD -> Ridge Regression\n",
    "\n",
    "# Spolier alert of interesting observations\n",
    "1. One peculiar observation is that the **top negative features of the regression model contain a lot of stop words** \n",
    "2. Removing the stop words results in an inferior performance which I guess is because, well structured sentences consists predominantly of conjunctions, articles etc. which are in fact in the list of stop words\n",
    "3. The performance of the model with dimensionality reduction is superior to the model without dimensionality reduction\n",
    "4. Normalizing the data before passing on to the regressors achieves superior performance\n",
    "5. Best model **Without** SVD -> **Ridge regression**\n",
    "6. Best model **With** SVD -> **Linear Regression**. So this implies that SVD does reduce noise and substitutes regularization"
   ]
  },
  {
   "cell_type": "code",
   "execution_count": 1,
   "id": "copyrighted-leonard",
   "metadata": {
    "execution": {
     "iopub.execute_input": "2021-05-18T11:40:40.645865Z",
     "iopub.status.busy": "2021-05-18T11:40:40.645126Z",
     "iopub.status.idle": "2021-05-18T11:40:41.637952Z",
     "shell.execute_reply": "2021-05-18T11:40:41.637259Z"
    },
    "papermill": {
     "duration": 1.014763,
     "end_time": "2021-05-18T11:40:41.638124",
     "exception": false,
     "start_time": "2021-05-18T11:40:40.623361",
     "status": "completed"
    },
    "tags": []
   },
   "outputs": [],
   "source": [
    "import string\n",
    "import pandas as pd\n",
    "\n",
    "from pathlib import Path\n",
    "from sklearn.pipeline import Pipeline\n",
    "from sklearn.decomposition import TruncatedSVD\n",
    "from sklearn.model_selection import GridSearchCV\n",
    "from sklearn.linear_model import LinearRegression, Ridge\n",
    "from sklearn.feature_extraction.text import TfidfVectorizer"
   ]
  },
  {
   "cell_type": "code",
   "execution_count": 2,
   "id": "disabled-liquid",
   "metadata": {
    "execution": {
     "iopub.execute_input": "2021-05-18T11:40:41.662347Z",
     "iopub.status.busy": "2021-05-18T11:40:41.661433Z",
     "iopub.status.idle": "2021-05-18T11:40:41.664538Z",
     "shell.execute_reply": "2021-05-18T11:40:41.664083Z"
    },
    "papermill": {
     "duration": 0.016584,
     "end_time": "2021-05-18T11:40:41.664674",
     "exception": false,
     "start_time": "2021-05-18T11:40:41.648090",
     "status": "completed"
    },
    "tags": []
   },
   "outputs": [],
   "source": [
    "COMPETITION_DATA_PATH = Path('../input/commonlitreadabilityprize')\n",
    "TRAIN_DATA_PATH = COMPETITION_DATA_PATH / 'train.csv'\n",
    "TEST_DATA_PATH = COMPETITION_DATA_PATH / 'test.csv'"
   ]
  },
  {
   "cell_type": "code",
   "execution_count": 3,
   "id": "composite-relationship",
   "metadata": {
    "execution": {
     "iopub.execute_input": "2021-05-18T11:40:41.689998Z",
     "iopub.status.busy": "2021-05-18T11:40:41.688850Z",
     "iopub.status.idle": "2021-05-18T11:40:41.817087Z",
     "shell.execute_reply": "2021-05-18T11:40:41.816519Z"
    },
    "papermill": {
     "duration": 0.142714,
     "end_time": "2021-05-18T11:40:41.817260",
     "exception": false,
     "start_time": "2021-05-18T11:40:41.674546",
     "status": "completed"
    },
    "tags": []
   },
   "outputs": [],
   "source": [
    "train_data = pd.read_csv(TRAIN_DATA_PATH)\n",
    "train_data = train_data[['excerpt', 'target']]"
   ]
  },
  {
   "cell_type": "code",
   "execution_count": 4,
   "id": "czech-peter",
   "metadata": {
    "execution": {
     "iopub.execute_input": "2021-05-18T11:40:41.841470Z",
     "iopub.status.busy": "2021-05-18T11:40:41.840529Z",
     "iopub.status.idle": "2021-05-18T11:40:41.844881Z",
     "shell.execute_reply": "2021-05-18T11:40:41.845360Z"
    },
    "papermill": {
     "duration": 0.017836,
     "end_time": "2021-05-18T11:40:41.845504",
     "exception": false,
     "start_time": "2021-05-18T11:40:41.827668",
     "status": "completed"
    },
    "tags": []
   },
   "outputs": [],
   "source": [
    "def preprocess_text(text):\n",
    "    # Strip punctuations\n",
    "    text = text.translate(str.maketrans('', '', string.punctuation))\n",
    "    return text"
   ]
  },
  {
   "cell_type": "markdown",
   "id": "injured-handling",
   "metadata": {
    "papermill": {
     "duration": 0.010039,
     "end_time": "2021-05-18T11:40:41.865254",
     "exception": false,
     "start_time": "2021-05-18T11:40:41.855215",
     "status": "completed"
    },
    "tags": []
   },
   "source": [
    "# Pipeline without Dimensionality reduction\n",
    "\n",
    "To inspect word features"
   ]
  },
  {
   "cell_type": "code",
   "execution_count": 5,
   "id": "comic-gamma",
   "metadata": {
    "execution": {
     "iopub.execute_input": "2021-05-18T11:40:41.889333Z",
     "iopub.status.busy": "2021-05-18T11:40:41.888462Z",
     "iopub.status.idle": "2021-05-18T11:43:36.458905Z",
     "shell.execute_reply": "2021-05-18T11:43:36.459447Z"
    },
    "papermill": {
     "duration": 174.583924,
     "end_time": "2021-05-18T11:43:36.459637",
     "exception": false,
     "start_time": "2021-05-18T11:40:41.875713",
     "status": "completed"
    },
    "tags": []
   },
   "outputs": [
    {
     "name": "stdout",
     "output_type": "stream",
     "text": [
      "Best parameter (CV score=-0.775):\n",
      "{'regressor': Ridge(fit_intercept=False, normalize=True), 'regressor__fit_intercept': False, 'regressor__normalize': True, 'vectorizer': TfidfVectorizer(min_df=7, ngram_range=(1, 3),\n",
      "                preprocessor=<function preprocess_text at 0x7f8cd8bdfcb0>), 'vectorizer__min_df': 7, 'vectorizer__ngram_range': (1, 3), 'vectorizer__stop_words': None}\n"
     ]
    }
   ],
   "source": [
    "pipeline_without_svd = Pipeline([('vectorizer', 'passthrough'),\n",
    "                                 ('regressor', 'passthrough')])\n",
    "\n",
    "param_grid = {'vectorizer': [TfidfVectorizer(preprocessor=preprocess_text)],\n",
    "              'regressor':  [LinearRegression(), Ridge()],\n",
    "              \n",
    "              'vectorizer__stop_words': [None, 'english'],\n",
    "              'vectorizer__min_df': [5, 7, 9],\n",
    "              'vectorizer__ngram_range': [(1, 2), (1, 3)],\n",
    "              \n",
    "              'regressor__fit_intercept': [True, False],\n",
    "              'regressor__normalize': [True, False]}\n",
    "\n",
    "search_without_svd = GridSearchCV(pipeline_without_svd, param_grid, cv=3,\n",
    "                                  n_jobs=-1, scoring='neg_root_mean_squared_error')\n",
    "search_without_svd.fit(X=train_data['excerpt'], y=train_data['target'])\n",
    "\n",
    "print(\"Best parameter (CV score=%0.3f):\" % search_without_svd.best_score_)\n",
    "print(search_without_svd.best_params_)"
   ]
  },
  {
   "cell_type": "markdown",
   "id": "atlantic-version",
   "metadata": {
    "papermill": {
     "duration": 0.010192,
     "end_time": "2021-05-18T11:43:36.480246",
     "exception": false,
     "start_time": "2021-05-18T11:43:36.470054",
     "status": "completed"
    },
    "tags": []
   },
   "source": [
    "## Top features"
   ]
  },
  {
   "cell_type": "code",
   "execution_count": 6,
   "id": "interim-painting",
   "metadata": {
    "execution": {
     "iopub.execute_input": "2021-05-18T11:43:36.568301Z",
     "iopub.status.busy": "2021-05-18T11:43:36.567501Z",
     "iopub.status.idle": "2021-05-18T11:43:36.572600Z",
     "shell.execute_reply": "2021-05-18T11:43:36.573062Z"
    },
    "papermill": {
     "duration": 0.082166,
     "end_time": "2021-05-18T11:43:36.573223",
     "exception": false,
     "start_time": "2021-05-18T11:43:36.491057",
     "status": "completed"
    },
    "tags": []
   },
   "outputs": [
    {
     "name": "stdout",
     "output_type": "stream",
     "text": [
      "Top positive features\n",
      "Feature: just: 0.98\n",
      "Feature: One: 0.97\n",
      "Feature: boys: 0.91\n",
      "Feature: lived: 0.89\n",
      "Feature: snow: 0.83\n",
      "Feature: trees: 0.80\n",
      "Feature: out: 0.77\n",
      "Feature: think: 0.76\n",
      "Feature: away: 0.76\n",
      "Feature: rights: 0.74\n",
      "----------------------------------------------------------------------------------------------------\n",
      "Top negative features\n",
      "Feature: of: -3.23\n",
      "Feature: with: -1.96\n",
      "Feature: the: -1.73\n",
      "Feature: in: -1.73\n",
      "Feature: as: -1.47\n",
      "Feature: which: -1.44\n",
      "Feature: by: -1.25\n",
      "Feature: to: -1.24\n",
      "Feature: and: -1.15\n",
      "Feature: at: -1.12\n"
     ]
    }
   ],
   "source": [
    "best_pipeline_without_svd = search_without_svd.best_estimator_\n",
    "\n",
    "vectorizer_features = best_pipeline_without_svd['vectorizer'].get_feature_names()\n",
    "model_weights = best_pipeline_without_svd['regressor'].coef_\n",
    "\n",
    "print('Top positive features')\n",
    "for weight, feature in sorted(zip(model_weights, vectorizer_features))[::-1][:10]:\n",
    "    print(f'Feature: {feature}: {weight:.2f}')\n",
    "    \n",
    "print(5*'--------------------')\n",
    "\n",
    "print('Top negative features')\n",
    "for weight, feature in sorted(zip(model_weights, vectorizer_features))[:10]:\n",
    "    print(f'Feature: {feature}: {weight:.2f}')"
   ]
  },
  {
   "cell_type": "markdown",
   "id": "illegal-building",
   "metadata": {
    "papermill": {
     "duration": 0.011131,
     "end_time": "2021-05-18T11:43:36.595579",
     "exception": false,
     "start_time": "2021-05-18T11:43:36.584448",
     "status": "completed"
    },
    "tags": []
   },
   "source": [
    "# Pipeline with Dimensionality reduction"
   ]
  },
  {
   "cell_type": "code",
   "execution_count": 7,
   "id": "molecular-catalog",
   "metadata": {
    "execution": {
     "iopub.execute_input": "2021-05-18T11:43:36.626536Z",
     "iopub.status.busy": "2021-05-18T11:43:36.625922Z",
     "iopub.status.idle": "2021-05-18T12:21:36.083986Z",
     "shell.execute_reply": "2021-05-18T12:21:36.084942Z"
    },
    "papermill": {
     "duration": 2279.478508,
     "end_time": "2021-05-18T12:21:36.085243",
     "exception": false,
     "start_time": "2021-05-18T11:43:36.606735",
     "status": "completed"
    },
    "tags": []
   },
   "outputs": [
    {
     "name": "stdout",
     "output_type": "stream",
     "text": [
      "Best parameter (CV score=-0.761):\n",
      "{'regressor': LinearRegression(fit_intercept=False), 'regressor__fit_intercept': False, 'regressor__normalize': False, 'svd': TruncatedSVD(n_components=800), 'svd__n_components': 800, 'vectorizer': TfidfVectorizer(min_df=3, ngram_range=(1, 3),\n",
      "                preprocessor=<function preprocess_text at 0x7f8cd8bdfcb0>), 'vectorizer__min_df': 3, 'vectorizer__ngram_range': (1, 3), 'vectorizer__stop_words': None}\n"
     ]
    }
   ],
   "source": [
    "pipeline_with_svd = Pipeline([('vectorizer', 'passthrough'),\n",
    "                              ('svd', 'passthrough'),\n",
    "                              ('regressor', 'passthrough')])\n",
    "\n",
    "param_grid = {'vectorizer': [TfidfVectorizer(preprocessor=preprocess_text)],\n",
    "              'svd': [TruncatedSVD()],\n",
    "              'regressor':  [LinearRegression(), Ridge()],\n",
    "              \n",
    "              'vectorizer__stop_words': [None, 'english'],\n",
    "              'vectorizer__min_df': [3, 5, 7],\n",
    "              'vectorizer__ngram_range': [(1, 2), (1, 3)],\n",
    "              \n",
    "              'svd__n_components': [700, 800],\n",
    "              \n",
    "              'regressor__fit_intercept': [True, False],\n",
    "              'regressor__normalize': [True, False]}\n",
    "\n",
    "search_with_svd = GridSearchCV(pipeline_with_svd, param_grid, cv=3,\n",
    "                                  n_jobs=-1, scoring='neg_root_mean_squared_error')\n",
    "search_with_svd.fit(X=train_data['excerpt'], y=train_data['target'])\n",
    "\n",
    "print(\"Best parameter (CV score=%0.3f):\" % search_with_svd.best_score_)\n",
    "print(search_with_svd.best_params_)"
   ]
  },
  {
   "cell_type": "markdown",
   "id": "handmade-pharmacology",
   "metadata": {
    "papermill": {
     "duration": 0.024163,
     "end_time": "2021-05-18T12:21:36.142956",
     "exception": false,
     "start_time": "2021-05-18T12:21:36.118793",
     "status": "completed"
    },
    "tags": []
   },
   "source": [
    "# Repeating the Interesting observations\n",
    "1. One peculiar observation is that the top features of the regression model contain a lot of stop words \n",
    "2. Removing the stop words results in an inferior performance which I guess is because well structured sentences consists predominantly of conjunctions, articles etc. which are in fact in the list of stop words\n",
    "3. The performance of the model with dimensionality reduction is superior to the model without dimensionality reduction\n",
    "4. Normalizing the data before passing on to the regressors achieves superior performance\n",
    "5. Best model **Without** SVD -> Ridge regression where Best model **with** SVD -> Linear Regression. So this implies that SVD does reduce noise and substitutes regularization"
   ]
  },
  {
   "cell_type": "markdown",
   "id": "practical-authorization",
   "metadata": {
    "papermill": {
     "duration": 0.016171,
     "end_time": "2021-05-18T12:21:36.175697",
     "exception": false,
     "start_time": "2021-05-18T12:21:36.159526",
     "status": "completed"
    },
    "tags": []
   },
   "source": [
    "# Predicting with the best pipeline"
   ]
  },
  {
   "cell_type": "code",
   "execution_count": 8,
   "id": "scheduled-sullivan",
   "metadata": {
    "execution": {
     "iopub.execute_input": "2021-05-18T12:21:36.204374Z",
     "iopub.status.busy": "2021-05-18T12:21:36.203783Z",
     "iopub.status.idle": "2021-05-18T12:21:36.343608Z",
     "shell.execute_reply": "2021-05-18T12:21:36.343074Z"
    },
    "papermill": {
     "duration": 0.156662,
     "end_time": "2021-05-18T12:21:36.343737",
     "exception": false,
     "start_time": "2021-05-18T12:21:36.187075",
     "status": "completed"
    },
    "tags": []
   },
   "outputs": [],
   "source": [
    "test_data = pd.read_csv(TEST_DATA_PATH)\n",
    "test_data['target'] = search_with_svd.predict(test_data['excerpt'])\n",
    "test_data[['id','target']].to_csv('submission.csv', index=False)"
   ]
  },
  {
   "cell_type": "code",
   "execution_count": null,
   "id": "lesbian-mineral",
   "metadata": {
    "papermill": {
     "duration": 0.011387,
     "end_time": "2021-05-18T12:21:36.367033",
     "exception": false,
     "start_time": "2021-05-18T12:21:36.355646",
     "status": "completed"
    },
    "tags": []
   },
   "outputs": [],
   "source": []
  }
 ],
 "metadata": {
  "kernelspec": {
   "display_name": "Python 3",
   "language": "python",
   "name": "python3"
  },
  "language_info": {
   "codemirror_mode": {
    "name": "ipython",
    "version": 3
   },
   "file_extension": ".py",
   "mimetype": "text/x-python",
   "name": "python",
   "nbconvert_exporter": "python",
   "pygments_lexer": "ipython3",
   "version": "3.7.10"
  },
  "papermill": {
   "default_parameters": {},
   "duration": 2463.989082,
   "end_time": "2021-05-18T12:21:37.590674",
   "environment_variables": {},
   "exception": null,
   "input_path": "__notebook__.ipynb",
   "output_path": "__notebook__.ipynb",
   "parameters": {},
   "start_time": "2021-05-18T11:40:33.601592",
   "version": "2.3.3"
  }
 },
 "nbformat": 4,
 "nbformat_minor": 5
}
